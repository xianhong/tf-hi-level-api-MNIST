{
 "cells": [
  {
   "cell_type": "code",
   "execution_count": 1,
   "metadata": {},
   "outputs": [],
   "source": [
    "import tensorflow as tf\n",
    "import numpy as np\n",
    "from tensorflow.keras import layers\n",
    "from tensorflow.examples.tutorials.mnist import input_data"
   ]
  },
  {
   "cell_type": "markdown",
   "metadata": {},
   "source": [
    "### Build pipeline"
   ]
  },
  {
   "cell_type": "code",
   "execution_count": 2,
   "metadata": {},
   "outputs": [
    {
     "name": "stdout",
     "output_type": "stream",
     "text": [
      "WARNING:tensorflow:From <ipython-input-2-65cde516a3a0>:1: read_data_sets (from tensorflow.contrib.learn.python.learn.datasets.mnist) is deprecated and will be removed in a future version.\n",
      "Instructions for updating:\n",
      "Please use alternatives such as official/mnist/dataset.py from tensorflow/models.\n",
      "WARNING:tensorflow:From /usr/local/lib/python3.5/dist-packages/tensorflow/contrib/learn/python/learn/datasets/mnist.py:260: maybe_download (from tensorflow.contrib.learn.python.learn.datasets.base) is deprecated and will be removed in a future version.\n",
      "Instructions for updating:\n",
      "Please write your own downloading logic.\n",
      "WARNING:tensorflow:From /usr/local/lib/python3.5/dist-packages/tensorflow/contrib/learn/python/learn/datasets/mnist.py:262: extract_images (from tensorflow.contrib.learn.python.learn.datasets.mnist) is deprecated and will be removed in a future version.\n",
      "Instructions for updating:\n",
      "Please use tf.data to implement this functionality.\n",
      "Extracting MNIST_data/train-images-idx3-ubyte.gz\n",
      "WARNING:tensorflow:From /usr/local/lib/python3.5/dist-packages/tensorflow/contrib/learn/python/learn/datasets/mnist.py:267: extract_labels (from tensorflow.contrib.learn.python.learn.datasets.mnist) is deprecated and will be removed in a future version.\n",
      "Instructions for updating:\n",
      "Please use tf.data to implement this functionality.\n",
      "Extracting MNIST_data/train-labels-idx1-ubyte.gz\n",
      "WARNING:tensorflow:From /usr/local/lib/python3.5/dist-packages/tensorflow/contrib/learn/python/learn/datasets/mnist.py:110: dense_to_one_hot (from tensorflow.contrib.learn.python.learn.datasets.mnist) is deprecated and will be removed in a future version.\n",
      "Instructions for updating:\n",
      "Please use tf.one_hot on tensors.\n",
      "Extracting MNIST_data/t10k-images-idx3-ubyte.gz\n",
      "Extracting MNIST_data/t10k-labels-idx1-ubyte.gz\n",
      "WARNING:tensorflow:From /usr/local/lib/python3.5/dist-packages/tensorflow/contrib/learn/python/learn/datasets/mnist.py:290: DataSet.__init__ (from tensorflow.contrib.learn.python.learn.datasets.mnist) is deprecated and will be removed in a future version.\n",
      "Instructions for updating:\n",
      "Please use alternatives such as official/mnist/dataset.py from tensorflow/models.\n"
     ]
    }
   ],
   "source": [
    "mnist = input_data.read_data_sets('MNIST_data/',one_hot=True)\n",
    "\n",
    "dataset = tf.data.Dataset.from_tensor_slices(({'x1':mnist.train.images[:,0:392],'x2':mnist.train.images[:,392:784]}, \n",
    "                                              mnist.train.labels.astype(np.float32)))\n",
    "dataset = dataset.shuffle(55000).repeat().batch(128)\n",
    "val_dataset = tf.data.Dataset.from_tensor_slices(({'x1':mnist.test.images[:,0:392],'x2':mnist.test.images[:,392:784]}, \n",
    "                                                  mnist.test.labels.astype(np.float32))).batch(128)"
   ]
  },
  {
   "cell_type": "code",
   "execution_count": null,
   "metadata": {},
   "outputs": [],
   "source": [
    "dataset"
   ]
  },
  {
   "cell_type": "markdown",
   "metadata": {},
   "source": [
    "### Create a Sequential model with Keras"
   ]
  },
  {
   "cell_type": "code",
   "execution_count": 3,
   "metadata": {},
   "outputs": [
    {
     "name": "stdout",
     "output_type": "stream",
     "text": [
      "Epoch 1/24\n",
      "430/430 [==============================] - 2s 5ms/step - loss: 0.9243 - acc: 0.7620\n",
      "Epoch 2/24\n",
      "430/430 [==============================] - 2s 4ms/step - loss: 0.3335 - acc: 0.9118\n",
      "Epoch 3/24\n",
      "430/430 [==============================] - 2s 4ms/step - loss: 0.2602 - acc: 0.9295\n",
      "Epoch 4/24\n",
      "430/430 [==============================] - 2s 4ms/step - loss: 0.2206 - acc: 0.9395\n",
      "Epoch 5/24\n",
      "430/430 [==============================] - 2s 4ms/step - loss: 0.1930 - acc: 0.9467\n",
      "Epoch 6/24\n",
      "430/430 [==============================] - 2s 4ms/step - loss: 0.1724 - acc: 0.9519\n",
      "Epoch 7/24\n",
      "430/430 [==============================] - 2s 4ms/step - loss: 0.1545 - acc: 0.9567\n",
      "Epoch 8/24\n",
      "430/430 [==============================] - 2s 5ms/step - loss: 0.1408 - acc: 0.9606\n",
      "Epoch 9/24\n",
      "430/430 [==============================] - 2s 5ms/step - loss: 0.1282 - acc: 0.9642\n",
      "Epoch 10/24\n",
      "430/430 [==============================] - 2s 4ms/step - loss: 0.1186 - acc: 0.9668\n",
      "Epoch 11/24\n",
      "430/430 [==============================] - 2s 4ms/step - loss: 0.1096 - acc: 0.9695\n",
      "Epoch 12/24\n",
      "430/430 [==============================] - 2s 4ms/step - loss: 0.1018 - acc: 0.9718\n",
      "Epoch 13/24\n",
      "430/430 [==============================] - 2s 5ms/step - loss: 0.0948 - acc: 0.9739\n",
      "Epoch 14/24\n",
      "430/430 [==============================] - 2s 4ms/step - loss: 0.0877 - acc: 0.9759\n",
      "Epoch 15/24\n",
      "430/430 [==============================] - 2s 4ms/step - loss: 0.0821 - acc: 0.9777\n",
      "Epoch 16/24\n",
      "430/430 [==============================] - 2s 4ms/step - loss: 0.0764 - acc: 0.9791\n",
      "Epoch 17/24\n",
      "430/430 [==============================] - 2s 5ms/step - loss: 0.0722 - acc: 0.9807\n",
      "Epoch 18/24\n",
      "430/430 [==============================] - 2s 4ms/step - loss: 0.0676 - acc: 0.9814\n",
      "Epoch 19/24\n",
      "430/430 [==============================] - 2s 4ms/step - loss: 0.0632 - acc: 0.9830\n",
      "Epoch 20/24\n",
      "430/430 [==============================] - 2s 5ms/step - loss: 0.0598 - acc: 0.9842\n",
      "Epoch 21/24\n",
      "430/430 [==============================] - 2s 4ms/step - loss: 0.0563 - acc: 0.9851\n",
      "Epoch 22/24\n",
      "430/430 [==============================] - 2s 4ms/step - loss: 0.0528 - acc: 0.9860\n",
      "Epoch 23/24\n",
      "430/430 [==============================] - 2s 4ms/step - loss: 0.0498 - acc: 0.9868\n",
      "Epoch 24/24\n",
      "430/430 [==============================] - 2s 4ms/step - loss: 0.0470 - acc: 0.9875\n"
     ]
    },
    {
     "data": {
      "text/plain": [
       "<tensorflow.python.keras.callbacks.History at 0x7f94b729f7f0>"
      ]
     },
     "execution_count": 3,
     "metadata": {},
     "output_type": "execute_result"
    }
   ],
   "source": [
    "input1 = tf.keras.Input(shape=(392,),name='x1')\n",
    "input2= tf.keras.Input(shape=(392,),name='x2')\n",
    "inputs= tf.keras.layers.concatenate([input1,input2])\n",
    "# A layer instance is callable on a tensor, and returns a tensor.\n",
    "x = layers.Dense(256, activation='relu')(inputs)\n",
    "x = layers.Dense(32, activation='relu')(x)\n",
    "predictions = layers.Dense(10, activation='softmax')(x)\n",
    "\n",
    "model = tf.keras.Model(inputs=[input1,input2], outputs=predictions)\n",
    "model.compile(optimizer=tf.train.AdamOptimizer(1e-4),\n",
    "              loss='categorical_crossentropy',\n",
    "              metrics=['accuracy'])\n",
    "model.fit(dataset, epochs=24, steps_per_epoch=430)"
   ]
  },
  {
   "cell_type": "markdown",
   "metadata": {},
   "source": [
    "### Validate the model"
   ]
  },
  {
   "cell_type": "code",
   "execution_count": 7,
   "metadata": {},
   "outputs": [
    {
     "name": "stdout",
     "output_type": "stream",
     "text": [
      "78/78 [==============================] - 0s 2ms/step\n"
     ]
    },
    {
     "data": {
      "text/plain": [
       "[0.07846667894045822, 0.975761217948718]"
      ]
     },
     "execution_count": 7,
     "metadata": {},
     "output_type": "execute_result"
    }
   ],
   "source": [
    "model.evaluate(val_dataset,steps=78)"
   ]
  },
  {
   "cell_type": "markdown",
   "metadata": {},
   "source": [
    "### Use the model for prediction/inference"
   ]
  },
  {
   "cell_type": "code",
   "execution_count": 6,
   "metadata": {},
   "outputs": [
    {
     "name": "stdout",
     "output_type": "stream",
     "text": [
      "Accuracy: 97.58%\n"
     ]
    }
   ],
   "source": [
    "result = model.predict({'x2':mnist.test.images[:,392:784],'x1':mnist.test.images[:,0:392]})\n",
    "#result = model.predict(tf.convert_to_tensor(mnist.test.images),steps=1)\n",
    "predicted_digits = np.argmax(result,axis=-1)\n",
    "gt_digits =np.argmax(mnist.test.labels,axis=-1)\n",
    "print(\"Accuracy: {}%\".format(np.mean(predicted_digits==gt_digits)*100.))"
   ]
  }
 ],
 "metadata": {
  "kernelspec": {
   "display_name": "Python 3",
   "language": "python",
   "name": "python3"
  },
  "language_info": {
   "codemirror_mode": {
    "name": "ipython",
    "version": 3
   },
   "file_extension": ".py",
   "mimetype": "text/x-python",
   "name": "python",
   "nbconvert_exporter": "python",
   "pygments_lexer": "ipython3",
   "version": "3.6.6"
  }
 },
 "nbformat": 4,
 "nbformat_minor": 2
}
